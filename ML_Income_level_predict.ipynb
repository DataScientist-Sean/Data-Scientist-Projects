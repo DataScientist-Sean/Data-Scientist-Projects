{
 "cells": [
  {
   "cell_type": "markdown",
   "metadata": {},
   "source": [
    "# Import  libralies to deal with ML model, matrixs and time"
   ]
  },
  {
   "cell_type": "code",
   "execution_count": 47,
   "metadata": {},
   "outputs": [],
   "source": [
    "from __future__ import print_function\n",
    "from __future__ import absolute_import\n",
    "from __future__ import division\n",
    "\n",
    "import tensorflow as tf\n",
    "import numpy as np\n",
    "import matplotlib.pyplot as plt\n",
    "\n",
    "import multiprocessing\n",
    "import six\n",
    "import time"
   ]
  },
  {
   "cell_type": "code",
   "execution_count": 48,
   "metadata": {},
   "outputs": [
    {
     "name": "stdout",
     "output_type": "stream",
     "text": [
      "Current Tensor Flow Version is 1.13.1\n"
     ]
    }
   ],
   "source": [
    "#Use Infor to track training,set WARN as default value\n",
    "print(\"Current Tensor Flow Version is %s\" %(tf.__version__))"
   ]
  },
  {
   "cell_type": "code",
   "execution_count": 49,
   "metadata": {},
   "outputs": [],
   "source": [
    "tf.logging.set_verbosity(tf.logging.ERROR)"
   ]
  },
  {
   "cell_type": "code",
   "execution_count": 50,
   "metadata": {},
   "outputs": [],
   "source": [
    "# Define some input formats for input csv file columns\n",
    "COLUMNS = ['age', 'workclass', 'fnlwgt', 'education', 'education_num',\n",
    "               'marital_status', 'occupation', 'relationship', 'race', 'gender',\n",
    "               'capital_gain', 'capital_loss', 'hours_per_week',\n",
    "               'native_country', 'income_bracket']"
   ]
  },
  {
   "cell_type": "code",
   "execution_count": 51,
   "metadata": {},
   "outputs": [],
   "source": [
    "# Define some input formats for selected feature columns to be used in the model\n",
    "# fnlwgt and income_bracket not included\n",
    "FEATURE_COLUMNS = ['age', 'workclass', 'education', 'education_num',\n",
    "               'marital_status', 'occupation', 'relationship', 'race', 'gender',\n",
    "               'capital_gain', 'capital_loss', 'hours_per_week',\n",
    "               'native_country']"
   ]
  },
  {
   "cell_type": "code",
   "execution_count": 52,
   "metadata": {},
   "outputs": [],
   "source": [
    "# Define some input formats for caegorical columns, not including continuous values\n",
    "CATEGORICAL_COLUMNS = ['workclass', 'education',\n",
    "               'marital_status', 'occupation', 'relationship', 'race', 'gender',\n",
    "                'native_country']"
   ]
  },
  {
   "cell_type": "markdown",
   "metadata": {},
   "source": [
    "# Import pandas library to explore datasets\n"
   ]
  },
  {
   "cell_type": "code",
   "execution_count": 53,
   "metadata": {},
   "outputs": [],
   "source": [
    "# to check if the data set is small enough to be handeled in memory all at once as one batch\n",
    "# explore data properties and decide how to use data effectively and efficiently\n",
    "import pandas as pd\n"
   ]
  },
  {
   "cell_type": "code",
   "execution_count": 54,
   "metadata": {},
   "outputs": [
    {
     "data": {
      "text/html": [
       "<div>\n",
       "<style scoped>\n",
       "    .dataframe tbody tr th:only-of-type {\n",
       "        vertical-align: middle;\n",
       "    }\n",
       "\n",
       "    .dataframe tbody tr th {\n",
       "        vertical-align: top;\n",
       "    }\n",
       "\n",
       "    .dataframe thead th {\n",
       "        text-align: right;\n",
       "    }\n",
       "</style>\n",
       "<table border=\"1\" class=\"dataframe\">\n",
       "  <thead>\n",
       "    <tr style=\"text-align: right;\">\n",
       "      <th></th>\n",
       "      <th>age</th>\n",
       "      <th>workclass</th>\n",
       "      <th>fnlwgt</th>\n",
       "      <th>education</th>\n",
       "      <th>education_num</th>\n",
       "      <th>marital_status</th>\n",
       "      <th>occupation</th>\n",
       "      <th>relationship</th>\n",
       "      <th>race</th>\n",
       "      <th>gender</th>\n",
       "      <th>capital_gain</th>\n",
       "      <th>capital_loss</th>\n",
       "      <th>hours_per_week</th>\n",
       "      <th>native_country</th>\n",
       "      <th>income_bracket</th>\n",
       "    </tr>\n",
       "  </thead>\n",
       "  <tbody>\n",
       "    <tr>\n",
       "      <th>0</th>\n",
       "      <td>39</td>\n",
       "      <td>State-gov</td>\n",
       "      <td>77516</td>\n",
       "      <td>Bachelors</td>\n",
       "      <td>13</td>\n",
       "      <td>Never-married</td>\n",
       "      <td>Adm-clerical</td>\n",
       "      <td>Not-in-family</td>\n",
       "      <td>White</td>\n",
       "      <td>Male</td>\n",
       "      <td>2174</td>\n",
       "      <td>0</td>\n",
       "      <td>40</td>\n",
       "      <td>United-States</td>\n",
       "      <td>&lt;=50K</td>\n",
       "    </tr>\n",
       "    <tr>\n",
       "      <th>1</th>\n",
       "      <td>50</td>\n",
       "      <td>Self-emp-not-inc</td>\n",
       "      <td>83311</td>\n",
       "      <td>Bachelors</td>\n",
       "      <td>13</td>\n",
       "      <td>Married-civ-spouse</td>\n",
       "      <td>Exec-managerial</td>\n",
       "      <td>Husband</td>\n",
       "      <td>White</td>\n",
       "      <td>Male</td>\n",
       "      <td>0</td>\n",
       "      <td>0</td>\n",
       "      <td>13</td>\n",
       "      <td>United-States</td>\n",
       "      <td>&lt;=50K</td>\n",
       "    </tr>\n",
       "    <tr>\n",
       "      <th>2</th>\n",
       "      <td>38</td>\n",
       "      <td>Private</td>\n",
       "      <td>215646</td>\n",
       "      <td>HS-grad</td>\n",
       "      <td>9</td>\n",
       "      <td>Divorced</td>\n",
       "      <td>Handlers-cleaners</td>\n",
       "      <td>Not-in-family</td>\n",
       "      <td>White</td>\n",
       "      <td>Male</td>\n",
       "      <td>0</td>\n",
       "      <td>0</td>\n",
       "      <td>40</td>\n",
       "      <td>United-States</td>\n",
       "      <td>&lt;=50K</td>\n",
       "    </tr>\n",
       "    <tr>\n",
       "      <th>3</th>\n",
       "      <td>53</td>\n",
       "      <td>Private</td>\n",
       "      <td>234721</td>\n",
       "      <td>11th</td>\n",
       "      <td>7</td>\n",
       "      <td>Married-civ-spouse</td>\n",
       "      <td>Handlers-cleaners</td>\n",
       "      <td>Husband</td>\n",
       "      <td>Black</td>\n",
       "      <td>Male</td>\n",
       "      <td>0</td>\n",
       "      <td>0</td>\n",
       "      <td>40</td>\n",
       "      <td>United-States</td>\n",
       "      <td>&lt;=50K</td>\n",
       "    </tr>\n",
       "    <tr>\n",
       "      <th>4</th>\n",
       "      <td>28</td>\n",
       "      <td>Private</td>\n",
       "      <td>338409</td>\n",
       "      <td>Bachelors</td>\n",
       "      <td>13</td>\n",
       "      <td>Married-civ-spouse</td>\n",
       "      <td>Prof-specialty</td>\n",
       "      <td>Wife</td>\n",
       "      <td>Black</td>\n",
       "      <td>Female</td>\n",
       "      <td>0</td>\n",
       "      <td>0</td>\n",
       "      <td>40</td>\n",
       "      <td>Cuba</td>\n",
       "      <td>&lt;=50K</td>\n",
       "    </tr>\n",
       "  </tbody>\n",
       "</table>\n",
       "</div>"
      ],
      "text/plain": [
       "   age          workclass  fnlwgt   education  education_num  \\\n",
       "0   39          State-gov   77516   Bachelors             13   \n",
       "1   50   Self-emp-not-inc   83311   Bachelors             13   \n",
       "2   38            Private  215646     HS-grad              9   \n",
       "3   53            Private  234721        11th              7   \n",
       "4   28            Private  338409   Bachelors             13   \n",
       "\n",
       "        marital_status          occupation    relationship    race   gender  \\\n",
       "0        Never-married        Adm-clerical   Not-in-family   White     Male   \n",
       "1   Married-civ-spouse     Exec-managerial         Husband   White     Male   \n",
       "2             Divorced   Handlers-cleaners   Not-in-family   White     Male   \n",
       "3   Married-civ-spouse   Handlers-cleaners         Husband   Black     Male   \n",
       "4   Married-civ-spouse      Prof-specialty            Wife   Black   Female   \n",
       "\n",
       "   capital_gain  capital_loss  hours_per_week  native_country income_bracket  \n",
       "0          2174             0              40   United-States          <=50K  \n",
       "1             0             0              13   United-States          <=50K  \n",
       "2             0             0              40   United-States          <=50K  \n",
       "3             0             0              40   United-States          <=50K  \n",
       "4             0             0              40            Cuba          <=50K  "
      ]
     },
     "execution_count": 54,
     "metadata": {},
     "output_type": "execute_result"
    }
   ],
   "source": [
    "#read the original file and check the first 5 rows\n",
    "df = pd.read_csv(\"adult.data.csv\", header = None, names=COLUMNS)\n",
    "df.head()"
   ]
  },
  {
   "cell_type": "code",
   "execution_count": 55,
   "metadata": {},
   "outputs": [
    {
     "data": {
      "text/html": [
       "<div>\n",
       "<style scoped>\n",
       "    .dataframe tbody tr th:only-of-type {\n",
       "        vertical-align: middle;\n",
       "    }\n",
       "\n",
       "    .dataframe tbody tr th {\n",
       "        vertical-align: top;\n",
       "    }\n",
       "\n",
       "    .dataframe thead th {\n",
       "        text-align: right;\n",
       "    }\n",
       "</style>\n",
       "<table border=\"1\" class=\"dataframe\">\n",
       "  <thead>\n",
       "    <tr style=\"text-align: right;\">\n",
       "      <th></th>\n",
       "      <th>age</th>\n",
       "      <th>fnlwgt</th>\n",
       "      <th>education_num</th>\n",
       "      <th>capital_gain</th>\n",
       "      <th>capital_loss</th>\n",
       "      <th>hours_per_week</th>\n",
       "    </tr>\n",
       "  </thead>\n",
       "  <tbody>\n",
       "    <tr>\n",
       "      <th>count</th>\n",
       "      <td>32561.000000</td>\n",
       "      <td>3.256100e+04</td>\n",
       "      <td>32561.000000</td>\n",
       "      <td>32561.000000</td>\n",
       "      <td>32561.000000</td>\n",
       "      <td>32561.000000</td>\n",
       "    </tr>\n",
       "    <tr>\n",
       "      <th>mean</th>\n",
       "      <td>38.581647</td>\n",
       "      <td>1.897784e+05</td>\n",
       "      <td>10.080679</td>\n",
       "      <td>1077.648844</td>\n",
       "      <td>87.303830</td>\n",
       "      <td>40.437456</td>\n",
       "    </tr>\n",
       "    <tr>\n",
       "      <th>std</th>\n",
       "      <td>13.640433</td>\n",
       "      <td>1.055500e+05</td>\n",
       "      <td>2.572720</td>\n",
       "      <td>7385.292085</td>\n",
       "      <td>402.960219</td>\n",
       "      <td>12.347429</td>\n",
       "    </tr>\n",
       "    <tr>\n",
       "      <th>min</th>\n",
       "      <td>17.000000</td>\n",
       "      <td>1.228500e+04</td>\n",
       "      <td>1.000000</td>\n",
       "      <td>0.000000</td>\n",
       "      <td>0.000000</td>\n",
       "      <td>1.000000</td>\n",
       "    </tr>\n",
       "    <tr>\n",
       "      <th>25%</th>\n",
       "      <td>28.000000</td>\n",
       "      <td>1.178270e+05</td>\n",
       "      <td>9.000000</td>\n",
       "      <td>0.000000</td>\n",
       "      <td>0.000000</td>\n",
       "      <td>40.000000</td>\n",
       "    </tr>\n",
       "    <tr>\n",
       "      <th>50%</th>\n",
       "      <td>37.000000</td>\n",
       "      <td>1.783560e+05</td>\n",
       "      <td>10.000000</td>\n",
       "      <td>0.000000</td>\n",
       "      <td>0.000000</td>\n",
       "      <td>40.000000</td>\n",
       "    </tr>\n",
       "    <tr>\n",
       "      <th>75%</th>\n",
       "      <td>48.000000</td>\n",
       "      <td>2.370510e+05</td>\n",
       "      <td>12.000000</td>\n",
       "      <td>0.000000</td>\n",
       "      <td>0.000000</td>\n",
       "      <td>45.000000</td>\n",
       "    </tr>\n",
       "    <tr>\n",
       "      <th>max</th>\n",
       "      <td>90.000000</td>\n",
       "      <td>1.484705e+06</td>\n",
       "      <td>16.000000</td>\n",
       "      <td>99999.000000</td>\n",
       "      <td>4356.000000</td>\n",
       "      <td>99.000000</td>\n",
       "    </tr>\n",
       "  </tbody>\n",
       "</table>\n",
       "</div>"
      ],
      "text/plain": [
       "                age        fnlwgt  education_num  capital_gain  capital_loss  \\\n",
       "count  32561.000000  3.256100e+04   32561.000000  32561.000000  32561.000000   \n",
       "mean      38.581647  1.897784e+05      10.080679   1077.648844     87.303830   \n",
       "std       13.640433  1.055500e+05       2.572720   7385.292085    402.960219   \n",
       "min       17.000000  1.228500e+04       1.000000      0.000000      0.000000   \n",
       "25%       28.000000  1.178270e+05       9.000000      0.000000      0.000000   \n",
       "50%       37.000000  1.783560e+05      10.000000      0.000000      0.000000   \n",
       "75%       48.000000  2.370510e+05      12.000000      0.000000      0.000000   \n",
       "max       90.000000  1.484705e+06      16.000000  99999.000000   4356.000000   \n",
       "\n",
       "       hours_per_week  \n",
       "count    32561.000000  \n",
       "mean        40.437456  \n",
       "std         12.347429  \n",
       "min          1.000000  \n",
       "25%         40.000000  \n",
       "50%         40.000000  \n",
       "75%         45.000000  \n",
       "max         99.000000  "
      ]
     },
     "execution_count": 55,
     "metadata": {},
     "output_type": "execute_result"
    }
   ],
   "source": [
    "#check some statistics of the dataset\n",
    "df.describe()"
   ]
  },
  {
   "cell_type": "code",
   "execution_count": 56,
   "metadata": {},
   "outputs": [
    {
     "data": {
      "text/html": [
       "<div>\n",
       "<style scoped>\n",
       "    .dataframe tbody tr th:only-of-type {\n",
       "        vertical-align: middle;\n",
       "    }\n",
       "\n",
       "    .dataframe tbody tr th {\n",
       "        vertical-align: top;\n",
       "    }\n",
       "\n",
       "    .dataframe thead th {\n",
       "        text-align: right;\n",
       "    }\n",
       "</style>\n",
       "<table border=\"1\" class=\"dataframe\">\n",
       "  <thead>\n",
       "    <tr style=\"text-align: right;\">\n",
       "      <th></th>\n",
       "      <th>age</th>\n",
       "      <th>fnlwgt</th>\n",
       "      <th>education_num</th>\n",
       "      <th>capital_gain</th>\n",
       "      <th>capital_loss</th>\n",
       "      <th>hours_per_week</th>\n",
       "    </tr>\n",
       "  </thead>\n",
       "  <tbody>\n",
       "    <tr>\n",
       "      <th>age</th>\n",
       "      <td>1.000000</td>\n",
       "      <td>-0.076646</td>\n",
       "      <td>0.036527</td>\n",
       "      <td>0.077674</td>\n",
       "      <td>0.057775</td>\n",
       "      <td>0.068756</td>\n",
       "    </tr>\n",
       "    <tr>\n",
       "      <th>fnlwgt</th>\n",
       "      <td>-0.076646</td>\n",
       "      <td>1.000000</td>\n",
       "      <td>-0.043195</td>\n",
       "      <td>0.000432</td>\n",
       "      <td>-0.010252</td>\n",
       "      <td>-0.018768</td>\n",
       "    </tr>\n",
       "    <tr>\n",
       "      <th>education_num</th>\n",
       "      <td>0.036527</td>\n",
       "      <td>-0.043195</td>\n",
       "      <td>1.000000</td>\n",
       "      <td>0.122630</td>\n",
       "      <td>0.079923</td>\n",
       "      <td>0.148123</td>\n",
       "    </tr>\n",
       "    <tr>\n",
       "      <th>capital_gain</th>\n",
       "      <td>0.077674</td>\n",
       "      <td>0.000432</td>\n",
       "      <td>0.122630</td>\n",
       "      <td>1.000000</td>\n",
       "      <td>-0.031615</td>\n",
       "      <td>0.078409</td>\n",
       "    </tr>\n",
       "    <tr>\n",
       "      <th>capital_loss</th>\n",
       "      <td>0.057775</td>\n",
       "      <td>-0.010252</td>\n",
       "      <td>0.079923</td>\n",
       "      <td>-0.031615</td>\n",
       "      <td>1.000000</td>\n",
       "      <td>0.054256</td>\n",
       "    </tr>\n",
       "    <tr>\n",
       "      <th>hours_per_week</th>\n",
       "      <td>0.068756</td>\n",
       "      <td>-0.018768</td>\n",
       "      <td>0.148123</td>\n",
       "      <td>0.078409</td>\n",
       "      <td>0.054256</td>\n",
       "      <td>1.000000</td>\n",
       "    </tr>\n",
       "  </tbody>\n",
       "</table>\n",
       "</div>"
      ],
      "text/plain": [
       "                     age    fnlwgt  education_num  capital_gain  capital_loss  \\\n",
       "age             1.000000 -0.076646       0.036527      0.077674      0.057775   \n",
       "fnlwgt         -0.076646  1.000000      -0.043195      0.000432     -0.010252   \n",
       "education_num   0.036527 -0.043195       1.000000      0.122630      0.079923   \n",
       "capital_gain    0.077674  0.000432       0.122630      1.000000     -0.031615   \n",
       "capital_loss    0.057775 -0.010252       0.079923     -0.031615      1.000000   \n",
       "hours_per_week  0.068756 -0.018768       0.148123      0.078409      0.054256   \n",
       "\n",
       "                hours_per_week  \n",
       "age                   0.068756  \n",
       "fnlwgt               -0.018768  \n",
       "education_num         0.148123  \n",
       "capital_gain          0.078409  \n",
       "capital_loss          0.054256  \n",
       "hours_per_week        1.000000  "
      ]
     },
     "execution_count": 56,
     "metadata": {},
     "output_type": "execute_result"
    }
   ],
   "source": [
    "# check some correlations of the variables\n",
    "df.corr()"
   ]
  },
  {
   "cell_type": "markdown",
   "metadata": {},
   "source": [
    "#  Used Tensorflow directly to load data by batch for big and scalable datasets"
   ]
  },
  {
   "cell_type": "code",
   "execution_count": 57,
   "metadata": {},
   "outputs": [],
   "source": [
    "\n",
    "#generate a function to facilitate the the input of data into our model\n",
    "# use dictionary to map features to tensor values, this represents a key to value set linked up\n",
    "# used a list to hold the tensor of values to represent the labes, which is the answer to be predicted\n"
   ]
  },
  {
   "cell_type": "code",
   "execution_count": 58,
   "metadata": {},
   "outputs": [
    {
     "name": "stdout",
     "output_type": "stream",
     "text": [
      "The input function has been successfully executed.\n"
     ]
    }
   ],
   "source": [
    "# create a function to transform original input file name to tensor values to be used later\n",
    "# set a proper batch size according to the power of your CPUs\n",
    "BATCH_SIZE=40\n",
    "def generate_input_fn(filename, batch_size=BATCH_SIZE):\n",
    "    def _input_fn():\n",
    "        #pass in file name to get string as input\n",
    "        filename_queue = tf.train.string_input_producer([filename])\n",
    "        # read line by line\n",
    "        reader = tf.TextLineReader()\n",
    "        # only get up to batch_size number of lines to process at one time, pass in queue and size\n",
    "        key, rows = reader.read_up_to(filename_queue, num_records=batch_size)\n",
    "        # set record default as value or string, but it must match the columns original datatype\n",
    "        record_defaults = [[0], [''], [0], [''], [0], [''], [''], [''], [''], [''],\n",
    "                       [0], [0], [0], [''], ['']]\n",
    "        # get batch size of rows to expand matrix dimession which is to shape new axies to hold record column values\n",
    "        # now we have a new subset of data frame of one batch size number of rows and orignal number of colums\n",
    "        rows = rows[:, np.newaxis]\n",
    "        # read out and decode the new data subset by rows and columns\n",
    "        columns = tf.decode_csv(rows, record_defaults=record_defaults)\n",
    "        #use dictionary to map this tensor flow value of the columns to the original all COLUMN names in the csv file \n",
    "        #now we will link up all columns name to all column tensor values \n",
    "        all_columns = dict(zip(COLUMNS, columns))\n",
    "        \n",
    "        # Create the label as the answer sheet by pop the column that has the answer\n",
    "        income_bracket = all_columns.pop('income_bracket')\n",
    "        \n",
    "        # Delete some columns that is not useful for the model to save computing power\n",
    "        all_columns.pop('fnlwgt', 'this useless column not found')\n",
    "        # repeat this function untill all useless columns are removed\n",
    "        \n",
    "        # repeat this function untill all useless columns are removed\n",
    "        # all the rest columns from all_columns can be used as our selected feature columns\n",
    "        features = all_columns\n",
    "        \n",
    "        #Compare results and set the lable answers to 0 and 1 as integer for output according to the rules\n",
    "        labels = tf.to_int32(tf.equal(income_bracket, \" >50k\"))\n",
    "        \n",
    "        \n",
    "        # output selected feature columns and lable answers\n",
    "        return features, labels\n",
    "    return _input_fn\n",
    "# end of the input function\n",
    "print('The input function has been successfully executed.')\n",
    "                       "
   ]
  },
  {
   "cell_type": "markdown",
   "metadata": {},
   "source": [
    "# Feature Selection by doing research on some column transformation in order  to train models and compare result accuracy"
   ]
  },
  {
   "cell_type": "code",
   "execution_count": 73,
   "metadata": {},
   "outputs": [
    {
     "name": "stdout",
     "output_type": "stream",
     "text": [
      "Continous value columns transformed.\n"
     ]
    }
   ],
   "source": [
    "# Set up continuous value, lower dimensional and dense real value columns\n",
    "age = layers.real_valued_column(\"age\")\n",
    "education_num = layers.real_valued_column(\"education_num\")\n",
    "capital_gain = layers.real_valued_column(\"capital_gain\")\n",
    "capital_loss = layers.real_valued_column(\"capital_loss\")\n",
    "hours_per_week = layers.real_valued_column(\"hours_per_week\")\n",
    "\n",
    "print('Continous value columns transformed.')"
   ]
  },
  {
   "cell_type": "code",
   "execution_count": 74,
   "metadata": {},
   "outputs": [],
   "source": [
    "#Use sparse colum with keys to handel columns with small amount of categories and we can easily pick a tensor value for it\n",
    "#Use hash bucket for features with many categorical names\n",
    "#import the layers library to create features\n",
    "from tensorflow.contrib import layers"
   ]
  },
  {
   "cell_type": "code",
   "execution_count": 75,
   "metadata": {},
   "outputs": [],
   "source": [
    "# use keys\n",
    "gender = layers.sparse_column_with_keys(column_name=\"gender\", keys=[\"female\",\"male\"])\n",
    "race = layers.sparse_column_with_keys(column_name=\"race\", keys=[\"Amer-Indian-Eskin\",\"Asian-Pac-Islande\",\"Black\",\"Other\",\"White\"])\n"
   ]
  },
  {
   "cell_type": "code",
   "execution_count": 76,
   "metadata": {},
   "outputs": [
    {
     "name": "stdout",
     "output_type": "stream",
     "text": [
      "Sparse categorical columns transformed.\n"
     ]
    }
   ],
   "source": [
    "#use buckets, pick a approriate size according to your CPU power\n",
    "education = layers.sparse_column_with_hash_bucket(\"education\", hash_bucket_size = 1000)\n",
    "marital_status = layers.sparse_column_with_hash_bucket(\"marital_status\", hash_bucket_size = 100)\n",
    "relationship = layers.sparse_column_with_hash_bucket(\"relationship\", hash_bucket_size = 100)\n",
    "workclass = layers.sparse_column_with_hash_bucket(\"workclass\", hash_bucket_size = 100)\n",
    "occupation = layers.sparse_column_with_hash_bucket(\"occupation\", hash_bucket_size = 1000)\n",
    "native_country = layers.sparse_column_with_hash_bucket(\"native_country\", hash_bucket_size = 1000)\n",
    "\n",
    "print('Sparse categorical columns transformed.')\n"
   ]
  },
  {
   "cell_type": "markdown",
   "metadata": {},
   "source": [
    "# Use domain knowledge and intuitions to explore different combination of columns to get more value out of the dataset"
   ]
  },
  {
   "cell_type": "code",
   "execution_count": 77,
   "metadata": {},
   "outputs": [],
   "source": [
    "# Categorical features can be of some relationship.\n",
    "# we can cross the feture to explore if some meaningful categories are related to each other by groupping\n"
   ]
  },
  {
   "cell_type": "code",
   "execution_count": 78,
   "metadata": {},
   "outputs": [],
   "source": [
    "# Age can be tranformed to categorical values by bucketizing due to different range of age have different influence to others\n",
    "# try to set a bin of size 5 and a range by commensense\n",
    "age_buckets = layers.bucketized_column(age,boundaries=[18,25,30,35,40,45,50,55,60,65])"
   ]
  },
  {
   "cell_type": "code",
   "execution_count": 79,
   "metadata": {},
   "outputs": [
    {
     "name": "stdout",
     "output_type": "stream",
     "text": [
      "selected categorical crossing columns transformed as additional higher degree dimensions of new wide column fetures.\n"
     ]
    }
   ],
   "source": [
    "# Try some feature crossing to eplore some more columns by intuition\n",
    "education_occupation = layers.crossed_column([education, occupation], hash_bucket_size = int(1e4))\n",
    "\n",
    "age_race_occupation = layers.crossed_column([age_buckets, race, occupation], hash_bucket_size = int(1e6))\n",
    "\n",
    "country_occupation = layers.crossed_column([native_country, occupation], hash_bucket_size = int(1e4))\n",
    "\n",
    "print('selected categorical crossing columns transformed as additional higher degree dimensions of new wide column fetures.')"
   ]
  },
  {
   "cell_type": "code",
   "execution_count": 80,
   "metadata": {},
   "outputs": [],
   "source": [
    "# group the colums together by dimension complexity, representing by continous value deep and categorical wide\n",
    "\n",
    "wide_columns = [gender, race, native_country, education, occupation, workclass, marital_status, \n",
    "                relationship, age_buckets, education_occupation, age_race_occupation, country_occupation]"
   ]
  },
  {
   "cell_type": "code",
   "execution_count": 81,
   "metadata": {},
   "outputs": [
    {
     "name": "stdout",
     "output_type": "stream",
     "text": [
      "continous and categorical columns grouped.\n"
     ]
    }
   ],
   "source": [
    "# set dimention as a small number to start with but can increase later to refine model by using a higher dimension\n",
    "deep_columns = [layers.embedding_column(workclass, dimension = 8),\n",
    "                layers.embedding_column(education, dimension = 8),\n",
    "                layers.embedding_column(marital_status, dimension = 8),\n",
    "                layers.embedding_column(gender, dimension = 8),\n",
    "                layers.embedding_column(relationship, dimension = 8),\n",
    "                layers.embedding_column(race, dimension = 8),\n",
    "                layers.embedding_column(native_country, dimension = 8),\n",
    "                layers.embedding_column(occupation, dimension = 8),\n",
    "                age,\n",
    "                education_num,\n",
    "                capital_gain,\n",
    "                capital_loss,\n",
    "                hours_per_week\n",
    "               ]\n",
    "print('continous and categorical columns grouped.')"
   ]
  },
  {
   "cell_type": "markdown",
   "metadata": {},
   "source": [
    "# Build severl ML models to compare results"
   ]
  },
  {
   "cell_type": "code",
   "execution_count": 82,
   "metadata": {},
   "outputs": [
    {
     "name": "stdout",
     "output_type": "stream",
     "text": [
      "Currenty Model Dirctory =  models/model_WIDE_AND_DEEP_1572034090\n",
      "Model successfuly built.\n"
     ]
    }
   ],
   "source": [
    "#import tensor flow libary to build model\n",
    "from tensorflow.contrib import learn\n",
    "#List out directory of different model types\n",
    "def create_model_dir(model_type):\n",
    "    return 'models/model_' + model_type + '_' + str(int(time.time()))\n",
    "# pass in model_type to run model, if new model or model_dir is not provided, use default model_type and directory\n",
    "def get_model(model_type, new_model = False, model_dir = None):\n",
    "    if new_model or model_dir is None:\n",
    "        # if model not provided, use old model type dirctory to run model, show dirctory of model\n",
    "        model_dir= create_model_dir(model_type)\n",
    "    print('Currenty Model Dirctory =  %s' % model_dir)\n",
    "\n",
    "    # set no model provide as default model m\n",
    "    m = None\n",
    "\n",
    "    # Try several different models\n",
    "    # Linear Classifier\n",
    "    if model_type == 'WIDE':\n",
    "        m = learn.LinearClassifier(model_dir = model_dir, \n",
    "                                   feature_columns = wide_columns)\n",
    "        \n",
    "    # Deep Neural Network Classifier\n",
    "    if model_type == 'DEEP':\n",
    "        m = learn.DNNClassifier(\n",
    "        model_dir=model_dir,\n",
    "        feature_columns = deep_columns,\n",
    "        hidden_units=[100,50])\n",
    "        \n",
    "    # Combined Linear and NN classifier\n",
    "    if model_type == 'WIDE_AND_DEEP':\n",
    "            m= learn.DNNLinearCombinedClassifier(model_dir=model_dir,\n",
    "                                               linear_feature_columns=wide_columns,\n",
    "                                               dnn_feature_columns= deep_columns,\n",
    "                                               dnn_hidden_units=[100,70,50,25])\n",
    "\n",
    "    print('Model successfuly built.')\n",
    "    return m, model_dir\n",
    "\n",
    "# set defaul model type and pass in model\n",
    "MODEL_TYPE = 'WIDE_AND_DEEP'\n",
    "#output model directory\n",
    "model_dir = create_model_dir(model_type = MODEL_TYPE)\n",
    "#call the function to run model\n",
    "m, model_dir = get_model(model_type = MODEL_TYPE, model_dir=model_dir)\n"
   ]
  },
  {
   "cell_type": "markdown",
   "metadata": {},
   "source": [
    "# Train the model by trying the train parameters"
   ]
  },
  {
   "cell_type": "code",
   "execution_count": 87,
   "metadata": {},
   "outputs": [
    {
     "name": "stdout",
     "output_type": "stream",
     "text": [
      "Model successfuly Trained.\n",
      "Wall time: 26.3 s\n"
     ]
    }
   ],
   "source": [
    "%%time\n",
    "#import time, %% timeit must put on first line otherwise won't run. When hit enter, you can hear CPU fan boot up sound\n",
    "# try different train steps and batch size depending on your Computer power\n",
    "# need to show how much time used for training to compare model results later\n",
    "\n",
    "#pass in train csv file\n",
    "train_file = str(\"adult.data.csv\")\n",
    "#pass in test csv file\n",
    "test_file = str(\"adult.test.csv\")\n",
    "#set a proper train step size\n",
    "train_steps = 1000\n",
    "#fit the model by passing all the parameters in\n",
    "m.fit(input_fn=generate_input_fn(train_file,BATCH_SIZE), steps = train_steps)\n",
    "print('Model successfuly Trained.')"
   ]
  },
  {
   "cell_type": "markdown",
   "metadata": {},
   "source": [
    "# Evalute the accuracy of the model by test dataset\n"
   ]
  },
  {
   "cell_type": "code",
   "execution_count": 88,
   "metadata": {},
   "outputs": [
    {
     "name": "stdout",
     "output_type": "stream",
     "text": [
      "results\n",
      "Evaluation of the test data completed.\n",
      "The model accuracy is: 1.0\n"
     ]
    }
   ],
   "source": [
    "TEST_STEPS=200\n",
    "results = m.evaluate(input_fn=generate_input_fn(test_file),\n",
    "                    steps =TEST_STEPS )\n",
    "\n",
    "print('results')\n",
    "print('Evaluation of the test data completed.')\n",
    "print ('The model accuracy is: %s' %results['accuracy'])"
   ]
  },
  {
   "cell_type": "code",
   "execution_count": null,
   "metadata": {},
   "outputs": [],
   "source": []
  }
 ],
 "metadata": {
  "kernelspec": {
   "display_name": "Python 3",
   "language": "python",
   "name": "python3"
  },
  "language_info": {
   "codemirror_mode": {
    "name": "ipython",
    "version": 3
   },
   "file_extension": ".py",
   "mimetype": "text/x-python",
   "name": "python",
   "nbconvert_exporter": "python",
   "pygments_lexer": "ipython3",
   "version": "3.7.3"
  }
 },
 "nbformat": 4,
 "nbformat_minor": 2
}
